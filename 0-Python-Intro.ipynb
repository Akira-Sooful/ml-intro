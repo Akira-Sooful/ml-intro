{
 "cells": [
  {
   "attachments": {},
   "cell_type": "markdown",
   "metadata": {
    "collapsed": true
   },
   "source": [
    "# Python Introduction\n",
    "This notebook will give you an introduction to the Python programming language.\n",
    "\n",
    "Python is a programming language that is interpreted. This means that your code is not translated to another format and then run. Python programs interpret each piece of code in your program and runs it.\n",
    "\n",
    "Python can be used in command line or terminal. Python can also be used in modern text editors geared for programming such as VS Code. Python can also be run in notebooks like this one. The code you write in a block will be run and the results will be presented below your code block. \n",
    "\n",
    "# Numbers\n",
    "Python lets you print arithmetic."
   ]
  },
  {
   "cell_type": "code",
   "execution_count": 2,
   "metadata": {},
   "outputs": [
    {
     "name": "stdout",
     "output_type": "stream",
     "text": [
      "Hello Python\n",
      "2\n",
      "Local time is 2017-10-12 15:08:08\n"
     ]
    }
   ],
   "source": [
    "import time\n",
    "\n",
    "# The print function lets you print to the console. This is useful to learn about what your code is doing\n",
    "print(\"Hello Python\")\n",
    "print(1 + 1)\n",
    "print(\"Local time is \" + time.strftime(\"%Y-%m-%d %H:%M:%S\", time.localtime()))"
   ]
  },
  {
   "attachments": {},
   "cell_type": "markdown",
   "metadata": {},
   "source": [
    "In programming, we use the concept of variables to store a value. A value could be a number, a character, etc. A group of characters such as \"Hello World\" is called a string. All strings must be wrapped by \" or ' characters in Python.\n",
    "\n",
    "Variables have a name. Names of variables must be meaningful like the examples below. name and age are two variables. Variables can also be comprised of specific characters, typically, the letters of the alphabet and numbers, but it cannot start with a number. The \"_\" and \"-\" characters are generally used to separate words in a variable."
   ]
  },
  {
   "cell_type": "code",
   "execution_count": 3,
   "metadata": {},
   "outputs": [
    {
     "name": "stdout",
     "output_type": "stream",
     "text": [
      "Howdy Python\n",
      "Cheers Python\n",
      "Curtis Connors\n",
      "Curtis Connors 32 42\n"
     ]
    }
   ],
   "source": [
    "print(\"Howdy Python\")\n",
    "print('Cheers Python')\n",
    "\n",
    "name = \"Curtis Connors\"\n",
    "age = 32\n",
    "number_of_books_owned = 42\n",
    "\n",
    "print(name)\n",
    "print(name, age, number_of_books_owned)"
   ]
  },
  {
   "cell_type": "markdown",
   "metadata": {},
   "source": [
    "Python supports different types of numbers such as integers and floating point numbers.\n",
    "\n",
    "An integer is a number without a decimal point. In programming it's generally called \"int\"\n",
    "\n",
    "A floating point number contains decimals and it's used when more precision is needed. In programming it's generally called \"float\""
   ]
  },
  {
   "cell_type": "code",
   "execution_count": 4,
   "metadata": {},
   "outputs": [
    {
     "name": "stdout",
     "output_type": "stream",
     "text": [
      "22\n",
      "22.22\n",
      "-22\n"
     ]
    }
   ],
   "source": [
    "whole_number = 22\n",
    "decimal_number = 22.22\n",
    "negative_whole_number = -22\n",
    "\n",
    "print(whole_number)\n",
    "print(decimal_number)\n",
    "print(negative_whole_number)"
   ]
  },
  {
   "cell_type": "markdown",
   "metadata": {},
   "source": [
    "Python supports a variety of arithmetic operators. Such as:"
   ]
  },
  {
   "cell_type": "code",
   "execution_count": 5,
   "metadata": {},
   "outputs": [
    {
     "name": "stdout",
     "output_type": "stream",
     "text": [
      "9\n",
      "-5\n",
      "14\n",
      "2\n",
      "0.2857142857142857\n",
      "0\n",
      "49\n",
      "3\n",
      "14\n"
     ]
    }
   ],
   "source": [
    "a = 2\n",
    "b = 7\n",
    "\n",
    "print(a + b)  # Addition\n",
    "print(a - b)  # Subtraction\n",
    "print(a * b)  # Multiplication\n",
    "print(a % b)  # Modulus - Remainder of a / b\n",
    "print(a / b)  # Float Division\n",
    "print(a // b)  # Integer Division\n",
    "print(b ** 2)  # Square a number\n",
    "\n",
    "# These are short-hand expressions for modifying the value of a variable\n",
    "a += 1\n",
    "b *= 2\n",
    "print(a)\n",
    "print(b)"
   ]
  },
  {
   "cell_type": "markdown",
   "metadata": {},
   "source": [
    "You may be wondering what the # symbol means. This is a simple way to add notes to your code so you can remember what the meaning behind it is if needed. In programming, we call these comments.\n",
    "\n",
    "Arithmetic expressions can be more complex as they are in the real world."
   ]
  },
  {
   "cell_type": "code",
   "execution_count": 6,
   "metadata": {},
   "outputs": [
    {
     "name": "stdout",
     "output_type": "stream",
     "text": [
      "77.0\n",
      "2.4444444444444446\n"
     ]
    }
   ],
   "source": [
    "a = 2\n",
    "b = 7\n",
    "c = 22\n",
    "\n",
    "x = c / a * b\n",
    "print(x)\n",
    "\n",
    "y = c / (a + b)\n",
    "print(y)"
   ]
  },
  {
   "cell_type": "markdown",
   "metadata": {
    "collapsed": true
   },
   "source": [
    "# Strings\n",
    "Python lets you work with aggregations of characters and words. These are called strings. Strings are essentially a list of characters."
   ]
  },
  {
   "cell_type": "code",
   "execution_count": 7,
   "metadata": {},
   "outputs": [
    {
     "name": "stdout",
     "output_type": "stream",
     "text": [
      "Apple\n",
      "Orange\n"
     ]
    }
   ],
   "source": [
    "apple = 'Apple'\n",
    "citrus = \"Orange\"\n",
    "\n",
    "print(apple)\n",
    "print(citrus)"
   ]
  },
  {
   "cell_type": "markdown",
   "metadata": {},
   "source": [
    "With python, you can use single quotes(') or double quotes(\") around your strings.\n",
    "\n",
    "Python also supports special characters like new line characters or tabs."
   ]
  },
  {
   "cell_type": "code",
   "execution_count": 8,
   "metadata": {},
   "outputs": [
    {
     "name": "stdout",
     "output_type": "stream",
     "text": [
      "Curtis\n",
      "Connors\n"
     ]
    }
   ],
   "source": [
    "full_name = \"Curtis\\nConnors\"  # \\n is a new line character\n",
    "\n",
    "print(full_name)"
   ]
  },
  {
   "cell_type": "code",
   "execution_count": 9,
   "metadata": {},
   "outputs": [
    {
     "name": "stdout",
     "output_type": "stream",
     "text": [
      "Name\tSurname\tAge\n",
      "Curtis\tConnors\t32\n"
     ]
    }
   ],
   "source": [
    "some_tabular_header = \"Name\\tSurname\\tAge\"\n",
    "some_tabular_data = \"Curtis\\tConnors\\t32\"\n",
    "\n",
    "print(some_tabular_header)\n",
    "print(some_tabular_data)"
   ]
  },
  {
   "cell_type": "markdown",
   "metadata": {},
   "source": [
    "It is also possible to mix single quotes and double quotes where necessary:"
   ]
  },
  {
   "cell_type": "code",
   "execution_count": 10,
   "metadata": {},
   "outputs": [
    {
     "name": "stdout",
     "output_type": "stream",
     "text": [
      "You're a wizzard\n"
     ]
    }
   ],
   "source": [
    "print(\"You're a wizzard\")  # Notice the single quote in the string for you're\n"
   ]
  },
  {
   "cell_type": "markdown",
   "metadata": {},
   "source": [
    "It is also possible to add strings, however, using the + operator on strings is different to when it's used on numbers. This is call concatenation. It will join the values in question when a string is part of the expression."
   ]
  },
  {
   "cell_type": "code",
   "execution_count": 11,
   "metadata": {},
   "outputs": [
    {
     "name": "stdout",
     "output_type": "stream",
     "text": [
      "Hello, my name is Curtis Connors\n"
     ]
    }
   ],
   "source": [
    "name = \"Curtis\"\n",
    "surname = \"Connors\"\n",
    "\n",
    "message = \"Hello, my name is \" + name + \" \" + surname\n",
    "print(message)\n"
   ]
  },
  {
   "cell_type": "markdown",
   "metadata": {},
   "source": [
    "This can be tedious and hard to read when maintaining code. So Python allows for injecting values into strings and formatting strings. You will notice below, by using curly brackets, one can specify variables to be substituted into the string. The index of the variables start at 0 like with most things in programming languages."
   ]
  },
  {
   "cell_type": "code",
   "execution_count": 12,
   "metadata": {},
   "outputs": [
    {
     "name": "stdout",
     "output_type": "stream",
     "text": [
      "Hello my name is Curtis Connors and I am 32 years old\n"
     ]
    }
   ],
   "source": [
    "name = \"Curtis\"\n",
    "surname = \"Connors\"\n",
    "age = 32\n",
    "\n",
    "message = \"Hello my name is {0} {1} and I am {2} years old\".format(name, surname, age)\n",
    "print(message)"
   ]
  },
  {
   "cell_type": "markdown",
   "metadata": {},
   "source": [
    "# Casting\n",
    "We have looked different data types such as integers, floats, and strings. Sometimes we want to convert a value from one type to another. For example, if we ask someone to input their age, it's recorded as a string, but we need the integer value to do something meaningful. The process of converting a value from one type to another is called casting."
   ]
  },
  {
   "cell_type": "code",
   "execution_count": 13,
   "metadata": {},
   "outputs": [
    {
     "name": "stdout",
     "output_type": "stream",
     "text": [
      "18\n",
      "19\n"
     ]
    }
   ],
   "source": [
    "age_as_string = \"18\"\n",
    "age_as_integer = int(age_as_string)\n",
    "print(age_as_integer)\n",
    "\n",
    "# Now we can work with the value as a number\n",
    "age_as_integer += 1\n",
    "print(age_as_integer)"
   ]
  },
  {
   "cell_type": "markdown",
   "metadata": {},
   "source": [
    "# Making Decisions\n",
    "When programming, we often need to make logical decisions in the code according to some rule. One would usually consider that if a certain condition is defined then something should happen. For this, we use the if statement.\n",
    "\n",
    "Here is a simple example of an if statement:"
   ]
  },
  {
   "cell_type": "code",
   "execution_count": 14,
   "metadata": {},
   "outputs": [
    {
     "name": "stdout",
     "output_type": "stream",
     "text": [
      "Curtis Connor you're welcome\n"
     ]
    }
   ],
   "source": [
    "person_name = \"Curtis Connor\"\n",
    "person_age = 19\n",
    "person_country = \"ZA\"\n",
    "\n",
    "age_limit = 18\n",
    "\n",
    "if person_age >= age_limit:\n",
    "    message = person_name + \" you're welcome\"\n",
    "    print(message)"
   ]
  },
  {
   "cell_type": "markdown",
   "metadata": {},
   "source": [
    "Notice that the if statement has a : at the end of the line to indicate the code following is meant to apply if the condition is satisfied. \n",
    "\n",
    "Note: In Python, tabs are used to declare blocks of code that belong together. The declaration of the variable \"message\" and the print statement are part of the same block of code.\n",
    "\n",
    "We can also test multiple conditions using \"and\" and \"or\" operators. Think about the example above, if someone is 18 and lives in ZA, that person is considered an adult."
   ]
  },
  {
   "cell_type": "code",
   "execution_count": 15,
   "metadata": {},
   "outputs": [
    {
     "name": "stdout",
     "output_type": "stream",
     "text": [
      "Welcome to responsibility\n",
      "We're forcing responsibility\n"
     ]
    }
   ],
   "source": [
    "if person_age >= 18 and person_country == \"ZA\":\n",
    "    print(\"Welcome to responsibility\")\n",
    "    \n",
    "if person_age <= 18 or True:\n",
    "    print(\"We're forcing responsibility\")\n",
    "    "
   ]
  },
  {
   "cell_type": "markdown",
   "metadata": {},
   "source": [
    "Sometimes we have different code for if a condition is met or not."
   ]
  },
  {
   "cell_type": "code",
   "execution_count": 16,
   "metadata": {},
   "outputs": [
    {
     "name": "stdout",
     "output_type": "stream",
     "text": [
      "Curtis Connor please GTFO\n"
     ]
    }
   ],
   "source": [
    "person_age = 17\n",
    "if person_age >= age_limit:\n",
    "    message = person_name + \" you're welcome\"\n",
    "    print(message)\n",
    "else:\n",
    "    message = person_name + \" please GTFO\"\n",
    "    print(message)"
   ]
  },
  {
   "cell_type": "markdown",
   "metadata": {},
   "source": [
    "And sometimes we have multiple conditions that we want to support."
   ]
  },
  {
   "cell_type": "code",
   "execution_count": 17,
   "metadata": {},
   "outputs": [
    {
     "name": "stdout",
     "output_type": "stream",
     "text": [
      "Enjoy!\n"
     ]
    }
   ],
   "source": [
    "person_age = 9\n",
    "if 0 <= person_age <= 18:\n",
    "    print(\"Enjoy!\")\n",
    "elif 19 <= person_age <= 65:\n",
    "    print(\"Welcome to responsibility\")\n",
    "else:\n",
    "    print(\"Enjoy you reward!\")\n",
    "    "
   ]
  },
  {
   "attachments": {},
   "cell_type": "markdown",
   "metadata": {},
   "source": [
    "# Repeating\n",
    "One of the benefits of developing a program is to automate repetitive tasks. Python includes constructs for running some code multiple times. These are called loops. \n",
    "\n",
    "Two different types of loops are \"for\" loops and \"while\" loops.\n",
    "\n",
    "For loop: Do something for the a set or computed number of iterations.\n",
    "\n",
    "While loop: Do something while a condition holds true."
   ]
  },
  {
   "cell_type": "code",
   "execution_count": 18,
   "metadata": {},
   "outputs": [
    {
     "name": "stdout",
     "output_type": "stream",
     "text": [
      "0\n",
      "1\n",
      "2\n",
      "3\n",
      "4\n",
      "5\n",
      "6\n",
      "7\n",
      "8\n",
      "9\n"
     ]
    }
   ],
   "source": [
    "for i in range(0, 10):\n",
    "    print(i)"
   ]
  },
  {
   "cell_type": "code",
   "execution_count": 19,
   "metadata": {},
   "outputs": [
    {
     "name": "stdout",
     "output_type": "stream",
     "text": [
      "You guessed right!\n"
     ]
    }
   ],
   "source": [
    "# Guess a number between 0 and 10. \n",
    "correct_answer = 5\n",
    "guess = 0\n",
    "while guess != correct_answer:\n",
    "    guess = 5#int(input(\"Guess a number until you get it right: \"))  # This is how you can get input for the console\n",
    "print(\"You guessed right!\")"
   ]
  },
  {
   "cell_type": "markdown",
   "metadata": {
    "collapsed": true
   },
   "source": [
    "Since a string is a list of characters we can iterate over it."
   ]
  },
  {
   "cell_type": "code",
   "execution_count": 20,
   "metadata": {},
   "outputs": [
    {
     "name": "stdout",
     "output_type": "stream",
     "text": [
      "C\n",
      "u\n",
      "r\n",
      "t\n",
      "i\n",
      "s\n",
      " \n",
      "C\n",
      "o\n",
      "n\n",
      "n\n",
      "o\n",
      "r\n",
      "s\n"
     ]
    }
   ],
   "source": [
    "name = \"Curtis Connors\"\n",
    "for c in name:\n",
    "    print(c)"
   ]
  },
  {
   "cell_type": "markdown",
   "metadata": {},
   "source": [
    "# Ranges\n",
    "Ranges appear in the \"for\" loop above. Ranges are exactly that. A range of values between two other values. These may be all the values between them or only some of them depending on how the range is generated."
   ]
  },
  {
   "cell_type": "code",
   "execution_count": 21,
   "metadata": {},
   "outputs": [
    {
     "name": "stdout",
     "output_type": "stream",
     "text": [
      "0\n",
      "1\n",
      "2\n",
      "3\n",
      "4\n",
      "5\n",
      "6\n",
      "7\n",
      "8\n",
      "9\n",
      "10\n",
      "range(2, 100, 2)\n",
      "4\n"
     ]
    }
   ],
   "source": [
    "all_numbers_between_0_and_10 = range(0, 11)\n",
    "for i in all_numbers_between_0_and_10:\n",
    "    print(i)\n",
    "\n",
    "twos = range(2, 100, 2)  # All the numbers that are multiples of 2 from 1 to 100\n",
    "print(twos)  # The range\n",
    "print(twos[1])  # The second multiple of 2 - remember we index from 0"
   ]
  },
  {
   "cell_type": "markdown",
   "metadata": {},
   "source": [
    "# Lists & Sets\n",
    "When working with data, the requirement to group things into lists is apparent. Python provides functionality to put things into lists.\n",
    "\n",
    "\n",
    "## Lists\n",
    "Lists are collections of items that can be duplicated and it retains order. They can be sorted."
   ]
  },
  {
   "cell_type": "code",
   "execution_count": 22,
   "metadata": {},
   "outputs": [
    {
     "name": "stdout",
     "output_type": "stream",
     "text": [
      "The second fruit is: orange\n",
      "apple\n",
      "orange\n",
      "pear\n",
      "banana\n",
      "melon\n",
      "lime\n",
      "['apple', 'orange', 'pear', 'banana', 'melon', 'lime', 'apple']\n"
     ]
    }
   ],
   "source": [
    "fruits = [\"apple\", \"orange\", \"pear\", \"banana\", \"melon\"]\n",
    "fruits.append(\"lime\")\n",
    "\n",
    "print(\"The second fruit is: {}\".format(fruits[1]))\n",
    "\n",
    "for fruit in fruits:\n",
    "    print(fruit)\n",
    "    \n",
    "fruits.append(\"apple\")  # Lists allow duplicates\n",
    "print(fruits)"
   ]
  },
  {
   "cell_type": "code",
   "execution_count": 23,
   "metadata": {},
   "outputs": [
    {
     "name": "stdout",
     "output_type": "stream",
     "text": [
      "['apple', 'apple', 'banana', 'lime', 'melon', 'orange', 'pear']\n"
     ]
    }
   ],
   "source": [
    "fruits.sort()\n",
    "print(fruits)"
   ]
  },
  {
   "cell_type": "code",
   "execution_count": 24,
   "metadata": {},
   "outputs": [
    {
     "name": "stdout",
     "output_type": "stream",
     "text": [
      "[0, 2, 4, 6, 8]\n",
      "[1, 3, 5, 7, 9]\n",
      "[0, 2, 4, 6, 8, 1, 3, 5, 7, 9]\n",
      "[0, 1, 2, 3, 4, 5, 6, 7, 8, 9]\n",
      "[9, 8, 7, 6, 5, 4, 3, 2, 1, 0]\n"
     ]
    }
   ],
   "source": [
    "even_numbers = list(range(0, 10, 2))\n",
    "odd_numbers = list(range(1, 10, 2))\n",
    "print(even_numbers)\n",
    "print(odd_numbers)\n",
    "\n",
    "all_numbers = even_numbers + odd_numbers  # Using the + operator creates a list that contains the contents of both\n",
    "print(all_numbers)\n",
    "\n",
    "all_numbers.sort()  # Order the list\n",
    "print(all_numbers)\n",
    "\n",
    "all_numbers.sort(reverse=True)  # Reverse order the list\n",
    "print(all_numbers)"
   ]
  },
  {
   "cell_type": "markdown",
   "metadata": {},
   "source": [
    "## Sets\n",
    "Sets are collections of items that are unique and it does not retain order."
   ]
  },
  {
   "cell_type": "code",
   "execution_count": 25,
   "metadata": {},
   "outputs": [
    {
     "name": "stdout",
     "output_type": "stream",
     "text": [
      "{'olive', 'corn', 'potato', 'cucumber'}\n"
     ]
    }
   ],
   "source": [
    "vegetables = {\"potato\", \"corn\", \"cucumber\", \"olive\"}\n",
    "print(vegetables)"
   ]
  },
  {
   "cell_type": "code",
   "execution_count": 26,
   "metadata": {},
   "outputs": [
    {
     "name": "stdout",
     "output_type": "stream",
     "text": [
      "{'olive', 'corn', 'potato', 'cucumber'}\n",
      "{'olive', 'onion', 'corn', 'cucumber', 'potato'}\n",
      "Yep. It's technically a fruit\n"
     ]
    }
   ],
   "source": [
    "vegetables.add(\"potato\")\n",
    "print(vegetables)\n",
    "vegetables.add(\"onion\")  # Notice that order is not guarenteed\n",
    "print(vegetables)\n",
    "\n",
    "if \"tomato\" not in vegetables:\n",
    "    print(\"Yep. It's technically a fruit\")"
   ]
  },
  {
   "cell_type": "code",
   "execution_count": 27,
   "metadata": {},
   "outputs": [
    {
     "name": "stdout",
     "output_type": "stream",
     "text": [
      "{0, 2, 4, 6, 8, 10, 12, 14, 16, 18, 20, 22, 24, 26, 28, 30, 32, 34, 36, 38, 40}\n",
      "{1, 4, 36, 9, 16, 25}\n"
     ]
    }
   ],
   "source": [
    "even = set(range(0, 42, 2))\n",
    "squares = {1, 4, 9, 16, 25, 36}\n",
    "\n",
    "print(even)\n",
    "print(squares)"
   ]
  },
  {
   "cell_type": "markdown",
   "metadata": {},
   "source": [
    "Sets have other useful functions:"
   ]
  },
  {
   "cell_type": "code",
   "execution_count": 28,
   "metadata": {},
   "outputs": [
    {
     "name": "stdout",
     "output_type": "stream",
     "text": [
      "{0, 1, 2, 4, 6, 8, 9, 10, 12, 14, 16, 18, 20, 22, 24, 25, 26, 28, 30, 32, 34, 36, 38, 40}\n",
      "{16, 4, 36}\n",
      "{0, 32, 2, 34, 6, 38, 8, 40, 10, 12, 14, 18, 20, 22, 24, 26, 28, 30}\n"
     ]
    }
   ],
   "source": [
    "# Union of two sets. I.e. Create one set with the values from both\n",
    "print(even.union(squares))\n",
    "\n",
    "# Intersection of two sets. I.e. Create one set that is the common values from both\n",
    "print(even.intersection(squares))\n",
    "\n",
    "# Difference of two sets. I.e. Create one set that is the uncommon values from both\n",
    "print(even.difference(squares))"
   ]
  },
  {
   "cell_type": "markdown",
   "metadata": {},
   "source": [
    "## Dictionaries\n",
    "Dictionaries consist of a key and value. One can reference a value using the key."
   ]
  },
  {
   "cell_type": "code",
   "execution_count": 29,
   "metadata": {},
   "outputs": [
    {
     "name": "stdout",
     "output_type": "stream",
     "text": [
      "{'Coke': 'Fizzy cola', 'Coffee': 'Work juice', 'Beer': 'After work juice'}\n",
      "Fizzy cola\n"
     ]
    }
   ],
   "source": [
    "drinks = {\"Coke\": \"Fizzy cola\", \n",
    "          \"Coffee\": \"Work juice\",\n",
    "          \"Beer\": \"After work juice\"}\n",
    "\n",
    "print(drinks)\n",
    "\n",
    "# Now any key can be referenced\n",
    "print(drinks[\"Coke\"])"
   ]
  },
  {
   "cell_type": "markdown",
   "metadata": {},
   "source": [
    "# Functions\n",
    "Functions are a packaged, named grouping of code that can be reused. You have already used many functions in this tutorial. \"sort\", \"union\", and even \"print\" are all functions provided by Python. There will always be cases where you will be required to write your own functions. Functions are defined with the \"def\" keyword. All the code within the function is part of the function. Functions can return a result or just execute some code."
   ]
  },
  {
   "cell_type": "code",
   "execution_count": 30,
   "metadata": {},
   "outputs": [
    {
     "name": "stdout",
     "output_type": "stream",
     "text": [
      "2\n",
      "3\n",
      "12\n"
     ]
    }
   ],
   "source": [
    "# Here's a function definition that takes in two numbers and returns the result\n",
    "def sum(a, b):\n",
    "    return a + b\n",
    "\n",
    "# Now we can call that function and reuse it with different parameters\n",
    "print(sum(1, 1))\n",
    "print(sum(2, 1))\n",
    "print(sum(7, 5))"
   ]
  },
  {
   "cell_type": "markdown",
   "metadata": {
    "collapsed": true
   },
   "source": [
    "Hopefully this has given you a good starting point to programming with Python."
   ]
  }
 ],
 "metadata": {
  "kernelspec": {
   "display_name": "Python 3",
   "language": "python",
   "name": "python3"
  },
  "language_info": {
   "codemirror_mode": {
    "name": "ipython",
    "version": 3
   },
   "file_extension": ".py",
   "mimetype": "text/x-python",
   "name": "python",
   "nbconvert_exporter": "python",
   "pygments_lexer": "ipython3",
   "version": "3.6.2"
  }
 },
 "nbformat": 4,
 "nbformat_minor": 2
}
