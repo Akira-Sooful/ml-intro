{
 "cells": [
  {
   "cell_type": "markdown",
   "metadata": {
    "collapsed": true
   },
   "source": [
    "# Classification\n",
    "Classification is the term used to define machine learning where the goal is to label a data entry based on it's features.\n"
   ]
  },
  {
   "cell_type": "markdown",
   "metadata": {},
   "source": [
    "## Password Strength Machine Learning\n",
    "Provided is a dataset of passwords. This can be used to extract properties to determine the strength of the password.\n",
    "\n",
    "### Rules for Password Strength\n",
    "These are the rules that we will use for password strength. Passwords have a strength between 0 and 4.\n",
    "Lets assign points to passwords.\n",
    "* A password with a character length of 8 or more gets 1 point.\n",
    "* A password containing a special character, an uppercase alphabet character, and a numeric character gets an additional 3 points.\n",
    "* A password containing an uppercase alphabet character, and a numeric character gets an additional 1 points.\n",
    "* A password containing a special character, and a numeric character gets an additional 2 points.\n",
    "* A password containing a special character, and an uppercase alphabet character gets an additional 2 points.\n",
    "* A password that does not meet any of these requirements gets a 0 points.\n",
    "\n",
    "### The Dataset\n",
    "The following data sets are provided:\n",
    "* **Training:** A training dataset for training your machine learning algorithm.\n",
    "* **Testing:** A training dataset for testing your machine learning algorithm.\n",
    "\n",
    "### Preparing the Data\n",
    "The passwords as they exist have no meaning to a machine learning algorithm.\n",
    "You will need to extract properties of the password that can be used.\n",
    "Example: Number of special character."
   ]
  },
  {
   "cell_type": "code",
   "execution_count": 3,
   "metadata": {},
   "outputs": [
    {
     "ename": "ModuleNotFoundError",
     "evalue": "No module named 'sklearn'",
     "output_type": "error",
     "traceback": [
      "\u001b[0;31m---------------------------------------------------------------------------\u001b[0m",
      "\u001b[0;31mModuleNotFoundError\u001b[0m                       Traceback (most recent call last)",
      "\u001b[0;32m<ipython-input-3-a4166a7f4f71>\u001b[0m in \u001b[0;36m<module>\u001b[0;34m()\u001b[0m\n\u001b[1;32m      1\u001b[0m \u001b[0;32mimport\u001b[0m \u001b[0mcsv\u001b[0m\u001b[0;34m\u001b[0m\u001b[0m\n\u001b[1;32m      2\u001b[0m \u001b[0;32mimport\u001b[0m \u001b[0mnumpy\u001b[0m \u001b[0;32mas\u001b[0m \u001b[0mnp\u001b[0m\u001b[0;34m\u001b[0m\u001b[0m\n\u001b[0;32m----> 3\u001b[0;31m \u001b[0;32mfrom\u001b[0m \u001b[0msklearn\u001b[0m \u001b[0;32mimport\u001b[0m \u001b[0mtree\u001b[0m\u001b[0;34m\u001b[0m\u001b[0m\n\u001b[0m\u001b[1;32m      4\u001b[0m \u001b[0mtraining_data\u001b[0m \u001b[0;34m=\u001b[0m \u001b[0;34m[\u001b[0m\u001b[0;34m]\u001b[0m\u001b[0;34m;\u001b[0m\u001b[0;34m\u001b[0m\u001b[0m\n\u001b[1;32m      5\u001b[0m \u001b[0mtraining_target\u001b[0m \u001b[0;34m=\u001b[0m \u001b[0;34m[\u001b[0m\u001b[0;34m]\u001b[0m\u001b[0;34m;\u001b[0m\u001b[0;34m\u001b[0m\u001b[0m\n",
      "\u001b[0;31mModuleNotFoundError\u001b[0m: No module named 'sklearn'"
     ]
    }
   ],
   "source": [
    "import csv\n",
    "import numpy as np\n",
    "from sklearn import tree\n",
    "training_data = [];\n",
    "training_target = [];\n",
    "testing_data = [];\n",
    "testing_target = [];\n",
    "with open('../Dataset/training.data', 'rb') as csvfile:\n",
    "    spamreader = csv.reader(csvfile, delimiter='|', quotechar='|')\n",
    "    for row in spamreader:\n",
    "        num = sum(c.isdigit() for c in row[0]) \n",
    "        upr = sum(c.isupper() for c in row[0])\n",
    "        spe = sum( not (c.isalpha()) and  not (c.isdigit()) for c in row[0])\n",
    "        lgt = len(row[0])\n",
    "        training_data_item = [num, upr, spe, lgt]\n",
    "        training_data.append(training_data_item)\n",
    "        training_target.append(int(row[1]))\n",
    "\n",
    "with open('../Dataset/testing.data', 'rb') as csvfile:\n",
    "    spamreader = csv.reader(csvfile, delimiter='|', quotechar='|')\n",
    "    for row in spamreader:\n",
    "        num = sum(c.isdigit() for c in row[0]) \n",
    "        upr = sum(c.isupper() for c in row[0])\n",
    "        spe = sum( not (c.isalpha()) and  not (c.isdigit()) for c in row[0])\n",
    "        lgt = len(row[0])\n",
    "        testing_data_item = [num, upr, spe, lgt]\n",
    "        testing_data.append(testing_data_item)\n",
    "        testing_target.append(int(row[1]))\n",
    "\n",
    "#The classifier\n",
    "clf = tree.DecisionTreeClassifier()\n",
    "#Training the classifier\n",
    "clf.fit(training_data, training_target)\n",
    "\n",
    "testing_expected = testing_target\n",
    "testing_predicted = clf.predict(testing_data)\n",
    "\n",
    "diff = map(lambda x,y:x-y, testing_predicted, testing_expected)\n",
    "print(np.histogram(diff, range(-4, 5)))\n",
    "\n",
    "hist = {}\n",
    "for i in range(-4,5):\n",
    "    hist[i] = 0\n",
    "    \n",
    "for i in diff:\n",
    "    hist[i] += 1\n",
    "    \n",
    "#for i in range(-4,5):\n",
    "#    print \"%2d - %3d\" % (i, hist[i])\n",
    "\n",
    "#print sum(map(lambda x: x*x, diff))"
   ]
  },
  {
   "cell_type": "code",
   "execution_count": null,
   "metadata": {
    "collapsed": true
   },
   "outputs": [],
   "source": []
  }
 ],
 "metadata": {
  "kernelspec": {
   "display_name": "Python 3",
   "language": "python",
   "name": "python3"
  },
  "language_info": {
   "codemirror_mode": {
    "name": "ipython",
    "version": 3
   },
   "file_extension": ".py",
   "mimetype": "text/x-python",
   "name": "python",
   "nbconvert_exporter": "python",
   "pygments_lexer": "ipython3",
   "version": "3.6.2"
  }
 },
 "nbformat": 4,
 "nbformat_minor": 2
}
