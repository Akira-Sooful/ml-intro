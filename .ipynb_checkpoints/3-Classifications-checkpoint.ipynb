{
 "cells": [
  {
   "cell_type": "markdown",
   "metadata": {
    "collapsed": true
   },
   "source": [
    "# Classification\n",
    "Classification is the term used to define machine learning where the goal is to label a data entry based on it's features. Learning happens based on known examples. This is called labeled data. The concept of learning using known examples is called supervised learning.\n",
    "\n",
    "Scikit-Learn is a Python package that provides some machine learning functions. Structures such as decisions trees are easy to use with minimal code. \n",
    "\n",
    "## Apples and Oranges\n",
    "Lets use the apples and oranges example to demonstrate how data can be classified.\n"
   ]
  },
  {
   "cell_type": "code",
   "execution_count": 99,
   "metadata": {},
   "outputs": [
    {
     "name": "stdout",
     "output_type": "stream",
     "text": [
      "[1]\n"
     ]
    }
   ],
   "source": [
    "from sklearn import tree\n",
    "\n",
    "# features = [[140, \"smooth\"], [130, \"smooth\"], [150, \"bumpy\"], [170, \"bumpy\"]]\n",
    "# labels = [\"apple\", \"apple\", \"orange\", \"orange\"]\n",
    "\n",
    "# smooth : 1, bumpy : 0\n",
    "# apple : 0, orange : 1\n",
    "\n",
    "#features = [[140, 1], [130, 1], [150, 0], [170, 0]]\n",
    "# Checking with more features\n",
    "# labels = [0, 0, 1, 1]\n",
    "features = [[140, 1], [130, 1], [150, 0], [170, 0],[180, 1], [120, 1], [142, 0], [150, 0]]\n",
    "labels = [0, 1, 1, 1, 1, 1, 1, 0]\n",
    "\n",
    "classifier = tree.DecisionTreeClassifier()\n",
    "classifier = classifier.fit(features, labels)\n",
    "\n",
    "print(classifier.predict([[145, 0]]))"
   ]
  },
  {
   "cell_type": "markdown",
   "metadata": {},
   "source": [
    "## Iris Flower Dataset\n",
    "Lets use what we've learned from the simple example above on a real dataset."
   ]
  },
  {
   "cell_type": "code",
   "execution_count": 106,
   "metadata": {},
   "outputs": [
    {
     "name": "stdout",
     "output_type": "stream",
     "text": [
      "[0]\n",
      "[ 5.1  3.5  1.4  0.2] 0\n",
      "['sepal length (cm)', 'sepal width (cm)', 'petal length (cm)', 'petal width (cm)'] ['setosa' 'versicolor' 'virginica']\n"
     ]
    }
   ],
   "source": [
    "from sklearn.datasets import load_iris\n",
    "from sklearn import tree\n",
    "import numpy as np\n",
    "\n",
    "# Instead of reading from our CSV file, Scikit-Learn provides us with the Iris dataset\n",
    "iris = load_iris()\n",
    "test_idx = [0, 50, 100]\n",
    "\n",
    "# Training data\n",
    "training_target = np.delete(iris.target, test_idx)\n",
    "training_data = np.delete(iris.data, test_idx, axis = 0)\n",
    "\n",
    "# Testing data\n",
    "testing_target = iris.target[test_idx]\n",
    "testing_data = iris.data[test_idx]\n",
    "\n",
    "classifier = tree.DecisionTreeClassifier()\n",
    "classifier.fit(training_data, training_target)\n",
    "\n",
    "print(classifier.predict(testing_data[:1]))\n",
    "print(testing_data[0], testing_target[0])\n",
    "print(iris.feature_names, iris.target_names)"
   ]
  },
  {
   "cell_type": "markdown",
   "metadata": {},
   "source": [
    "## Password Strength Machine Learning\n",
    "Provided is a dataset of passwords. This can be used to extract properties to determine the strength of the password.\n",
    "\n",
    "### Rules for Password Strength\n",
    "These are the rules that we will use for password strength. Passwords have a strength between 0 and 4.\n",
    "Lets assign points to passwords.\n",
    "* A password with a character length of 8 or more gets 1 point.\n",
    "* A password containing a special character, an uppercase alphabet character, and a numeric character gets an additional 3 points.\n",
    "* A password containing an uppercase alphabet character, and a numeric character gets an additional 1 points.\n",
    "* A password containing a special character, and a numeric character gets an additional 2 points.\n",
    "* A password containing a special character, and an uppercase alphabet character gets an additional 2 points.\n",
    "* A password that does not meet any of these requirements gets a 0 points.\n",
    "\n",
    "### The Dataset\n",
    "The following data sets are provided:\n",
    "* **Training:** A training dataset for training your machine learning algorithm.\n",
    "* **Testing:** A training dataset for testing your machine learning algorithm.\n",
    "\n",
    "### Preparing the Data\n",
    "The passwords as they exist have no meaning to a machine learning algorithm.\n",
    "You will need to extract properties of the password that can be used.\n",
    "Example: Number of special character.\n",
    "\n",
    "Use the dataset: datasets/Passwords.csv"
   ]
  },
  {
   "cell_type": "code",
   "execution_count": 96,
   "metadata": {
    "collapsed": true
   },
   "outputs": [],
   "source": [
    "import csv\n",
    "import numpy as np\n",
    "from sklearn import tree\n",
    "\n",
    "# Read data to lists and identify features\n",
    "\n",
    "# Plot and understand your features\n",
    "\n",
    "# Make a Scikit Learn classifier\n",
    "\n",
    "# Fit the model using your classifier\n",
    "\n",
    "# Determine level of correctness\n"
   ]
  },
  {
   "cell_type": "code",
   "execution_count": null,
   "metadata": {},
   "outputs": [],
   "source": []
  }
 ],
 "metadata": {
  "kernelspec": {
   "display_name": "Python 3",
   "language": "python",
   "name": "python3"
  },
  "language_info": {
   "codemirror_mode": {
    "name": "ipython",
    "version": 3
   },
   "file_extension": ".py",
   "mimetype": "text/x-python",
   "name": "python",
   "nbconvert_exporter": "python",
   "pygments_lexer": "ipython3",
   "version": "3.6.2"
  }
 },
 "nbformat": 4,
 "nbformat_minor": 2
}
