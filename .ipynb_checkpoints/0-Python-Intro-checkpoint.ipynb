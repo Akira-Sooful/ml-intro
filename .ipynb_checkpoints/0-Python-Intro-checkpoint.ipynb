{
 "cells": [
  {
   "cell_type": "markdown",
   "metadata": {
    "collapsed": true
   },
   "source": [
    "# Python Introduction\n",
    "This notebook will give you an introduction to the Python programming language.\n",
    "\n",
    "Python is a programming lanugage that is interpreted. This means that your code is not translated to another format and then run. Python programs interpret each piece of code in your program and runs it.\n",
    "\n",
    "Python can be used in command line or terminal. Python can also be used in modern text editors geared for programming such as VS Code. Python can also be run in notebooks like this one. The code you write in a block will be run and the results will be presented below your code block. \n",
    "\n",
    "# Numbers\n",
    "Python lets you print arithmatic."
   ]
  },
  {
   "cell_type": "code",
   "execution_count": 6,
   "metadata": {},
   "outputs": [
    {
     "name": "stdout",
     "output_type": "stream",
     "text": [
      "Hello Python\n",
      "2\n"
     ]
    }
   ],
   "source": [
    "# The print function lets you print to the console.\n",
    "print(\"Hello Python\")\n",
    "print(1 + 1)"
   ]
  },
  {
   "cell_type": "markdown",
   "metadata": {},
   "source": [
    "In programming, we use the concept of variables to store a value. A value could be a number, a character, etc. A group of characters such as \"Hello World\" is called a string. All strings must be wrapped by \" or ' characters in Python.\n",
    "\n",
    "Variables have a name. Names of variables must be meaningful like the examples below. name and age are two variables. Variables can also be comprised of specific characters, typically, the letters of the alphabet and numbers, but it cannot start with a number. The \"_\" and \"-\" characters are generally used to seperate words in a variable."
   ]
  },
  {
   "cell_type": "code",
   "execution_count": 11,
   "metadata": {},
   "outputs": [
    {
     "name": "stdout",
     "output_type": "stream",
     "text": [
      "Howdy Python\n",
      "Cheers Python\n",
      "Curtis Connors\n"
     ]
    }
   ],
   "source": [
    "print(\"Howdy Python\")\n",
    "print('Cheers Python')\n",
    "\n",
    "name = \"Curtis Connors\"\n",
    "age = 32\n",
    "number_of_books_owned = 42\n",
    "\n",
    "print(name)"
   ]
  },
  {
   "cell_type": "markdown",
   "metadata": {},
   "source": [
    "Python supports different types of numbers such as integers and floating point numbers.\n",
    "\n",
    "An integer is a number without a decimal point. In programming it's generally called \"int\"\n",
    "\n",
    "A floating point number contains decimals and it's used when more precision is needed. In programming it's generally called \"float\""
   ]
  },
  {
   "cell_type": "code",
   "execution_count": 9,
   "metadata": {},
   "outputs": [
    {
     "name": "stdout",
     "output_type": "stream",
     "text": [
      "22\n",
      "22.22\n"
     ]
    }
   ],
   "source": [
    "whole_number = 22\n",
    "decimal_number = 22.22\n",
    "\n",
    "print(whole_number)\n",
    "print(decimal_number)"
   ]
  },
  {
   "cell_type": "markdown",
   "metadata": {},
   "source": [
    "Python supports a variety of arithmetic operators. Such as:"
   ]
  },
  {
   "cell_type": "code",
   "execution_count": 12,
   "metadata": {},
   "outputs": [
    {
     "name": "stdout",
     "output_type": "stream",
     "text": [
      "9\n",
      "-5\n",
      "14\n",
      "2\n",
      "0.2857142857142857\n",
      "0\n"
     ]
    }
   ],
   "source": [
    "a = 2\n",
    "b = 7\n",
    "\n",
    "print(a + b)  # Addition\n",
    "print(a - b)  # Subtraction\n",
    "print(a * b)  # Multiplication\n",
    "print(a % b)  # Modulus\n",
    "print(a / b)  # Float Division\n",
    "print(a // b)  # Integer Division"
   ]
  },
  {
   "cell_type": "markdown",
   "metadata": {},
   "source": [
    "You may be wondering what the # symbol means. This is a simple way to add notes to your code so you can remember what the meaning behind it is if needed. In programming, we call these comments.\n",
    "\n",
    "Arithmetic expressions can be more complex as they are in the real world."
   ]
  },
  {
   "cell_type": "code",
   "execution_count": 14,
   "metadata": {},
   "outputs": [
    {
     "name": "stdout",
     "output_type": "stream",
     "text": [
      "77.0\n",
      "2.4444444444444446\n"
     ]
    }
   ],
   "source": [
    "a = 2\n",
    "b = 7\n",
    "c = 22\n",
    "\n",
    "x = c / a * b\n",
    "print(x)\n",
    "\n",
    "y = c / (a + b)\n",
    "print(y)"
   ]
  },
  {
   "cell_type": "code",
   "execution_count": null,
   "metadata": {
    "collapsed": true
   },
   "outputs": [],
   "source": []
  }
 ],
 "metadata": {
  "kernelspec": {
   "display_name": "Python 3",
   "language": "python",
   "name": "python3"
  },
  "language_info": {
   "codemirror_mode": {
    "name": "ipython",
    "version": 3
   },
   "file_extension": ".py",
   "mimetype": "text/x-python",
   "name": "python",
   "nbconvert_exporter": "python",
   "pygments_lexer": "ipython3",
   "version": "3.6.2"
  }
 },
 "nbformat": 4,
 "nbformat_minor": 2
}
