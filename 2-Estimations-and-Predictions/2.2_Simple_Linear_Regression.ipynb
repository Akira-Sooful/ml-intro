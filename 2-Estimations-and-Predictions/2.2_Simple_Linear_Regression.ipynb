{
 "cells": [
  {
   "cell_type": "markdown",
   "metadata": {
    "collapsed": true
   },
   "source": [
    "# Estimation and Predictions\n",
    "\n",
    "Estimation is a broad term used in machine learning, and generally refers to approximating a parameter for some algorithm or system. Where as predictions are generally refered to as forecasting.\n",
    "\n",
    "\n",
    "### Prediction VS Classification :\n",
    "\n",
    "Classification is a way of automatically sorting information/data into categories, where as prediction aims to determine a trend in the data to be able to determine what will or can happen, for scenarios that have yet to be observed.\n",
    "\n",
    "\n",
    "\n",
    "\n",
    "![alt text](https://cdn-images-1.medium.com/max/639/1*4sixxtuD8unWceZ-yp9TgQ.jpeg \"Classification VS Regression\")\n",
    "\n",
    "\n",
    "### What is Regression\n",
    "\n",
    "Regression analysis is used to estimate relationships amongst variables. It uses statistical processes for modeling and analyzing several variables where the goal is to determine a relationship between a dependent variable (the variable we want to predict) and one or more independent variables (or predictors). This gives insight on how, changes in the independent variables affect the value of the dependent variable. \n",
    " \n",
    " * Commonly used types of Regression:\n",
    "   - Linear Regression\n",
    "   - Polynomial Regression\n",
    "   - Multivariate Regression\n",
    "   - Logistic Regression\n",
    "   - Ridge Regression\n",
    "\n",
    "For the purposes of this Workshop, we will cover Linear and Polynomial Regression.\n",
    "\n",
    "\n",
    "## Simple Linear Regression\n",
    "In <b>Linear Regression</b>, we seek to find a line of best fit for the data. This line of best fit is modelled by the function : \n",
    "            <para> <center> $ y = c_{0} + c_{1}x $  &nbsp;&nbsp;&nbsp;&nbsp;&nbsp;&nbsp;&nbsp;  <i> ... </i> &nbsp;&nbsp;&nbsp;&nbsp; <b>[1] </b> </center> </para>\n",
    " * $ y $ - is called the dependent variable, which is the value we want to <b>predict</b>\n",
    " * $ x $ - are the input variable and are the features or explanatory variables\n",
    " * $ c_{i} $ - are the coefficients of the linear equation that need to be <b>estimated</b>\n",
    "\n",
    "This is what the simple straight line function looks like. \n",
    "![alt text](https://www-users.york.ac.uk/~mb55/msc/maths/graph036.gif \"Straight Line Function\")\n",
    "\n",
    "Lets look at an example !\n",
    "\n",
    "First lets generate a sample data set, using numpy, where we have a basic idea of the distribution of the data and what it looks like. We will define the relationship between the independent and dependent variables using the following equation:\n",
    " <center> $ y = 2x + 5 $ </center>"
   ]
  },
  {
   "cell_type": "code",
   "execution_count": 1,
   "metadata": {},
   "outputs": [
    {
     "name": "stdout",
     "output_type": "stream",
     "text": [
      "[  4.74058337   0.15296748   0.39660617   6.26185237   1.98909328\n",
      "   3.90348584   4.14596044   3.29862382  14.23757917   0.64133346]\n",
      "[ 14.48116674   5.30593495   5.79321233  17.52370475   8.97818657\n",
      "  12.80697168  13.29192088  11.59724765  33.47515834   6.28266693]\n"
     ]
    }
   ],
   "source": [
    "import numpy as np # first load the needed libraries\n",
    "\n",
    "np.random.seed(1234567) # This is to ensure repeatability in results\n",
    "\n",
    "x = np.random.random(100)*20 # Generate a random set of 100 input variables\n",
    "y =  np.array([ 2*v + 5 for v in x]) # Can genereate a new array by modifying each element in x\n",
    "print(x[:10]) #print the first 10 values\n",
    "print(y[:10]) #print the first 10 values"
   ]
  },
  {
   "cell_type": "markdown",
   "metadata": {},
   "source": [
    "Lets Plot this data to see what the true line the data follows looks like."
   ]
  },
  {
   "cell_type": "code",
   "execution_count": 2,
   "metadata": {},
   "outputs": [
    {
     "data": {
      "image/png": "[encoded data removed]",
      "text/plain": [
       "<matplotlib.figure.Figure at 0x7fc369004a58>"
      ]
     },
     "metadata": {},
     "output_type": "display_data"
    }
   ],
   "source": [
    "import matplotlib.pyplot as plt\n",
    "\n",
    "\n",
    "plt.plot(x,y, 'b', label='True Line')\n",
    "plt.legend()\n",
    "plt.show()"
   ]
  },
  {
   "cell_type": "markdown",
   "metadata": {},
   "source": [
    "Performing regression on the data as it stands, would not be very useful. We can add some random noise to the data to give the data a bit more variability. "
   ]
  },
  {
   "cell_type": "code",
   "execution_count": 3,
   "metadata": {},
   "outputs": [
    {
     "name": "stdout",
     "output_type": "stream",
     "text": [
      "[ 13.252476     4.97756555   6.45845676  18.47020425   8.49007679\n",
      "  11.65526164  14.25119126   9.85518374  33.96142987   4.69083024]\n"
     ]
    }
   ],
   "source": [
    "y1 =  np.array([ v + (np.random.random()-0.5)*4 for v in y]) #this introduces some noise into the data\n",
    "print(y1[:10])"
   ]
  },
  {
   "cell_type": "markdown",
   "metadata": {},
   "source": [
    "Now that we have some sample data, we first need split the data into training a test sets. This will allow us to gain insight into the accuracy of the linear regression model created on the data. If we were to just use the entire data set to train and test, there we would not have a very accurate idea of how well the model will work for data it has not seen before.\n",
    "\n",
    "General practice for splitting data into training and test sets is a 70/30 ratio of the entire data set (i.e. 70% of the full data set for training the model and 30% to test the model). In some cases tuning is required on the model parameters for optimization, in this case we would make it a 70/20/10 split between the training, test and evaluation sets. The evaluation set is used to tune the model parameters faster, since in many cases using large test sets for model optimization can be time consuming. Having a smaller evaulation set makes tuning much faster.\n"
   ]
  },
  {
   "cell_type": "code",
   "execution_count": 6,
   "metadata": {
    "collapsed": true
   },
   "outputs": [],
   "source": [
    "x_train = x[:-30]\n",
    "x_test = x[-30:]\n",
    "\n",
    "y_train = y1[:-30]\n",
    "y_test = y1[-30:]"
   ]
  },
  {
   "cell_type": "markdown",
   "metadata": {},
   "source": [
    "Now we have a set of input data and a set of dependent data. Lets see what it looks like."
   ]
  },
  {
   "cell_type": "code",
   "execution_count": 7,
   "metadata": {},
   "outputs": [
    {
     "data": {
      "image/png": "[encoded data removed]",
      "text/plain": [
       "<matplotlib.figure.Figure at 0x7fc336da47f0>"
      ]
     },
     "metadata": {},
     "output_type": "display_data"
    }
   ],
   "source": [
    "import matplotlib.pyplot as plt # this is the library we will be using to make a simple 2-D scatter plot of our data\n",
    "\n",
    "plt.plot(x_train,y_train,'x',label=\"Original Data\")\n",
    "plt.show()"
   ]
  },
  {
   "cell_type": "markdown",
   "metadata": {},
   "source": [
    "Before we move onto using Linear Regression to estimate the line of best fit, we can look at what the true line for the data looks like."
   ]
  },
  {
   "cell_type": "code",
   "execution_count": 8,
   "metadata": {
    "scrolled": true
   },
   "outputs": [
    {
     "data": {
      "image/png": "[encoded data removed]",
      "text/plain": [
       "<matplotlib.figure.Figure at 0x7fc336cdc908>"
      ]
     },
     "metadata": {},
     "output_type": "display_data"
    }
   ],
   "source": [
    "plt.plot(x_train,y_train,'x',label=\"Original Data\")\n",
    "plt.plot(x,y, 'b', label='True Line')\n",
    "plt.legend()\n",
    "plt.show()"
   ]
  },
  {
   "cell_type": "markdown",
   "metadata": {},
   "source": [
    "Now, assume we didnt know what the true line across the data was, how do we find it ?\n",
    "\n",
    "Using SciPy, which give us access to an implementation of the linear regression algorithm, this becomes a simple task.\n",
    "This can be found in SciPy's stats module, which contains a large number of probability distributions as well as a growing library of statistical functions, linear regression being one of these statistical functions."
   ]
  },
  {
   "cell_type": "code",
   "execution_count": 9,
   "metadata": {
    "collapsed": true
   },
   "outputs": [],
   "source": [
    "import scipy.stats as scs #the scipy library, and specifically the stats module.\n",
    "\n",
    "gradient,intercept,r,p,err = scs.linregress(x_train,y_train) #estimate trend line"
   ]
  },
  {
   "cell_type": "markdown",
   "metadata": {},
   "source": [
    "Great, now that the variables have been estimated, what does this output mean ?\n",
    " * $ gradient $ - this is the slope of the straigth line, $ c_{1} $in equation 1\n",
    " * $ intercept $ - this defines the y-intercept of the straight line, $ c_{0} $ in equation 1\n",
    " * $ r $ - is the correlation coefficient ( $ R^2 $ ) , whose range is [-1,1]. Where $ R^2 $ describes the correlation between the dependent variable and input variables. A $ R^2 $ value close to 0 and below denotes almost no correlation between the data, where as a $ R^2 $ value closer or equal to 1 denotes a high correlation between input and dependent vairables. \n",
    " * $ p $ - is the strength of evidence in support of a null hypothesis\n",
    " * $ err $ - Standard error of the estimated gradient\n",
    " \n",
    " [comment]: <> ( Explain some of the technique used for linear regression)\n",
    " \n",
    " \n",
    " ### How does it calculate this ?\n",
    " \n",
    " There are a few algorithms available to perform linear regression, Scikit-Learn uses a method called Ordinary Least Squares.\n",
    " <br>\n",
    " ![alt text](lin_reg_least_squares.png \"Ordinary Least Squares\")\n",
    " \n",
    " This aims to minimize the distance between the every point in the training data set and the regression line.\n",
    " \n",
    " Now lets add this to out plot !"
   ]
  },
  {
   "cell_type": "code",
   "execution_count": 10,
   "metadata": {},
   "outputs": [
    {
     "name": "stdout",
     "output_type": "stream",
     "text": [
      "Estimated Gradient (c1) : 1.9958\n",
      "Estimated Intercept (c0) : 4.9408\n",
      "r^2 value 0.9896\n",
      "P-values : 0.0000\n",
      "Estimated Error : 0.0248\n"
     ]
    },
    {
     "data": {
      "image/png": "[encoded data removed]",
      "text/plain": [
       "<matplotlib.figure.Figure at 0x7fc32ef669b0>"
      ]
     },
     "metadata": {},
     "output_type": "display_data"
    }
   ],
   "source": [
    "print(\"Estimated Gradient (c1) : %3.4f\\nEstimated Intercept (c0) : %3.4f\"%(gradient,intercept))\n",
    "print(\"r^2 value %3.4f\"%(r*r))\n",
    "print(\"P-values : %3.4f\"%(p))\n",
    "print(\"Estimated Error : %3.4f\"%(err))\n",
    "estimated = gradient*x_train + intercept # generating predicted values for each sample in train set.\n",
    "plt.plot(x_train,y_train,'x',label=\"Train Data\")\n",
    "plt.plot(x_test,y_test,'o',label=\"Test Data\")\n",
    "plt.plot(x,y, 'b', label='True Line')\n",
    "plt.plot(x_train,estimated, 'r', label='Regression Line')\n",
    "plt.legend()\n",
    "plt.show()"
   ]
  },
  {
   "cell_type": "markdown",
   "metadata": {},
   "source": [
    "# Using Linear Regression for Prediction\n",
    "\n",
    "Now that we have an idea of what linear regression does, how do we use this output to predict something ?\n",
    "\n",
    "Since we are using linear regression, the estimated equation is the predictor function we will use.\n",
    "This means we simply need to use the linear equation to predict the dependent variable using the estimated coefficients to complete the equation."
   ]
  },
  {
   "cell_type": "code",
   "execution_count": 11,
   "metadata": {},
   "outputs": [
    {
     "name": "stdout",
     "output_type": "stream",
     "text": [
      "Actual Line of Best Fit : y = 2x + 5\n",
      "Estimated Line of Best Fit : y = 1.9958x + 4.9408\n"
     ]
    }
   ],
   "source": [
    "print(\"Actual Line of Best Fit : y = 2x + 5\")\n",
    "print(\"Estimated Line of Best Fit : y = %3.4fx + %3.4f\"%(gradient,intercept))"
   ]
  },
  {
   "cell_type": "markdown",
   "metadata": {},
   "source": [
    "So in the case of simple linear regression, we simply use the estimated equation to predict the dependent value ( $ y $ ) for for new input data ( $ x $ ). We can use the mean squared error algorithm to measure the accuracy of the model. The mean squared error algorithm, give an indication of how far off (on average) the predictor is but averaging the square of the errors for each test sample predicted."
   ]
  },
  {
   "cell_type": "code",
   "execution_count": 12,
   "metadata": {},
   "outputs": [
    {
     "name": "stdout",
     "output_type": "stream",
     "text": [
      "1.3524315669804785\n"
     ]
    }
   ],
   "source": [
    "import math\n",
    "\n",
    "mean_sqrd_err = 0.0\n",
    "est_test = gradient*x_test + intercept # predicting values for each sample in test set.\n",
    "for i in range(0,len(est_test)) :\n",
    "    mean_sqrd_err += math.pow((est_test[i]- y_test[i]),2)\n",
    "mean_sqrd_err = mean_sqrd_err/len(est_test)\n",
    "print(mean_sqrd_err)"
   ]
  },
  {
   "cell_type": "code",
   "execution_count": null,
   "metadata": {
    "collapsed": true
   },
   "outputs": [],
   "source": []
  }
 ],
 "metadata": {
  "kernelspec": {
   "display_name": "Python 3.6",
   "language": "python",
   "name": "python36"
  },
  "language_info": {
   "codemirror_mode": {
    "name": "ipython",
    "version": 3
   },
   "file_extension": ".py",
   "mimetype": "text/x-python",
   "name": "python",
   "nbconvert_exporter": "python",
   "pygments_lexer": "ipython3",
   "version": "3.6.0"
  }
 },
 "nbformat": 4,
 "nbformat_minor": 2
}
